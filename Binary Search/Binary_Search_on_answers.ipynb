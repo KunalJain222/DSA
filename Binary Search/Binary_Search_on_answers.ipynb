{
  "nbformat": 4,
  "nbformat_minor": 0,
  "metadata": {
    "colab": {
      "provenance": [],
      "authorship_tag": "ABX9TyPBivhnqAgs+dGFQvbdysR4",
      "include_colab_link": true
    },
    "kernelspec": {
      "name": "python3",
      "display_name": "Python 3"
    },
    "language_info": {
      "name": "python"
    }
  },
  "cells": [
    {
      "cell_type": "markdown",
      "metadata": {
        "id": "view-in-github",
        "colab_type": "text"
      },
      "source": [
        "<a href=\"https://colab.research.google.com/github/KunalJain222/Binary-Search/blob/main/Binary_Search_on_answers.ipynb\" target=\"_parent\"><img src=\"https://colab.research.google.com/assets/colab-badge.svg\" alt=\"Open In Colab\"/></a>"
      ]
    },
    {
      "cell_type": "markdown",
      "source": [
        "**Binary Search On Answers**  \n",
        "Instead of applying binary search on an array, you apply it on the range of possible answers. For each midpoint, you check if it's a valid answer using a helper function, and then move left or right accordingly."
      ],
      "metadata": {
        "id": "TMzatbjqqOAb"
      }
    },
    {
      "cell_type": "markdown",
      "source": [
        "For Example:-  \n",
        " You are given a positive integer n. Your task is to find and return its square root. If ‘n’ is not a perfect square, then return the floor value of 'sqrt(n)'.  \n",
        " **Note**: The question explicitly states that if the given number, n, is not a perfect square, our objective is to find the maximum number, x, such that x squared is less than or equal to n (x*x <= n). In other words, we need to determine the floor value of the square root of n."
      ],
      "metadata": {
        "id": "JugGZkr0qw4O"
      }
    },
    {
      "cell_type": "markdown",
      "source": [
        "Optimal Approach(Using binary search):  \n",
        "-> The primary objective of the Binary Search algorithm is to efficiently determine the appropriate half to eliminate, thereby reducing the search space by half.   \n",
        "-> It does this by determining a specific condition that ensures that the target is not present in that half."
      ],
      "metadata": {
        "id": "LKRI3ohdrnL9"
      }
    },
    {
      "cell_type": "markdown",
      "source": [
        "**Algorithm**:  \n",
        "The steps are as follows:\n",
        "\n",
        "We will declare a variable called ‘ans’.  \n",
        "\n",
        "\n",
        "*   Place the 2 pointers i.e. low and high: Initially, we will place the pointers. The pointer low will point to 1 and the high will point to n.\n",
        "\n",
        "*   Calculate the ‘mid’: Now, inside a loop, we will calculate the value of ‘mid’ using the following formula:\n",
        "mid = (low+high) // 2 ( ‘//’ refers to integer division)\n",
        "\n",
        "\n",
        "*   Eliminate the halves accordingly:\n",
        "\n",
        " *   **If mid*mid <= n**: On satisfying this condition, we can conclude that the number ‘mid’ is one of the possible answers. So, we will store ‘mid’ in the variable ‘ans’. But we want the maximum number that holds this condition. So, we will eliminate the left half and consider the right half(i.e. low = mid+1).\n",
        " *   **Otherwise**, the value mid is larger than the number we want. This means the numbers greater than ‘mid’ will not be our answers and the right half of ‘mid’ consists of such numbers. So, we will eliminate the right half and consider the left half(i.e. high = mid-1).\n",
        "\n",
        "*   Finally, the ‘ans’ variable will be storing our answer. In addition to that, the high pointer will also point to the same number i.e. our answer. So, we can return either of the ‘ans’ or ‘high’.\n",
        "\n",
        "\n",
        "The steps from 2-3 will be inside a loop and the loop will continue until low crosses high.\n",
        "\n"
      ],
      "metadata": {
        "id": "uc2cfDTLsdxG"
      }
    },
    {
      "cell_type": "markdown",
      "source": [
        "code 👇"
      ],
      "metadata": {
        "id": "lM7aOcyguAo2"
      }
    },
    {
      "cell_type": "code",
      "execution_count": null,
      "metadata": {
        "id": "7YNaQLMvqBxg"
      },
      "outputs": [],
      "source": [
        "def floorSqrt(n):\n",
        "    low = 1\n",
        "    high = n\n",
        "    # Binary search on the answers:\n",
        "    while low <= high:\n",
        "        mid = (low + high) // 2\n",
        "        val = mid * mid\n",
        "        if val <= n:\n",
        "            # Eliminate the left half:\n",
        "            low = mid + 1\n",
        "        else:\n",
        "            # Eliminate the right half:\n",
        "            high = mid - 1\n",
        "    return high\n",
        "\n",
        "n = 28\n",
        "ans = floorSqrt(n)\n",
        "print(\"The floor of square root of\", n, \"is:\", ans)\n",
        "\n",
        "\n"
      ]
    }
  ]
}