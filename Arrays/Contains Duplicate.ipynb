{
 "cells": [
  {
   "cell_type": "markdown",
   "id": "740d7f3c-6691-4310-8b2f-9cde25fb77e8",
   "metadata": {},
   "source": [
    "## Problem Statement"
   ]
  },
  {
   "cell_type": "markdown",
   "id": "f1956f6e-5cf3-4b5c-bf58-6f0eef407296",
   "metadata": {},
   "source": [
    "#### Given an integer array nums, return true if any value appears at least twice in the array, and return false if every element is distinct."
   ]
  },
  {
   "cell_type": "markdown",
   "id": "e84f1166-83bd-4f47-b8f7-b0567854638d",
   "metadata": {},
   "source": [
    "### Example:-\n",
    "#### Input: nums = [1,2,3,1]\n",
    "\n",
    "#### Output: true\n",
    "\n",
    "#### Explanation:\n",
    "\n",
    "#### The element 1 occurs at the indices 0 and 3."
   ]
  },
  {
   "cell_type": "markdown",
   "id": "012ac103-af8d-4b3f-93cf-5e85d7f1f517",
   "metadata": {},
   "source": [
    "### Code :-"
   ]
  },
  {
   "cell_type": "code",
   "execution_count": 2,
   "id": "3384fe42-b81e-45e9-a289-cfc5c46f5cd3",
   "metadata": {},
   "outputs": [],
   "source": [
    "class Solution(object):\n",
    "    def containsDuplicate(self, nums):\n",
    "        \"\"\"\n",
    "        :type nums: List[int]\n",
    "        :rtype: bool\n",
    "        \"\"\"\n",
    "        # Hashset solution\n",
    "        seen = set()\n",
    "\n",
    "        for num in nums:\n",
    "            if num in seen:\n",
    "                return True\n",
    "            seen.add(num)\n",
    "        return False"
   ]
  },
  {
   "cell_type": "code",
   "execution_count": null,
   "id": "7f1f9708-ae7d-4299-9610-1d6ccd4a75e9",
   "metadata": {},
   "outputs": [],
   "source": []
  }
 ],
 "metadata": {
  "kernelspec": {
   "display_name": "Python 3 (ipykernel)",
   "language": "python",
   "name": "python3"
  },
  "language_info": {
   "codemirror_mode": {
    "name": "ipython",
    "version": 3
   },
   "file_extension": ".py",
   "mimetype": "text/x-python",
   "name": "python",
   "nbconvert_exporter": "python",
   "pygments_lexer": "ipython3",
   "version": "3.12.7"
  }
 },
 "nbformat": 4,
 "nbformat_minor": 5
}
