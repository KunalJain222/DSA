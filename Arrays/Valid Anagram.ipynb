{
 "cells": [
  {
   "cell_type": "markdown",
   "id": "0e6d8605-2f3e-4123-b399-83025edd5f45",
   "metadata": {},
   "source": [
    "## Problem Statement :-"
   ]
  },
  {
   "cell_type": "markdown",
   "id": "1692c078-7fc3-4984-8f9f-675439284d4e",
   "metadata": {},
   "source": [
    "#### Given two strings s and t, return true if t is an anagram of s, and false otherwise."
   ]
  },
  {
   "cell_type": "markdown",
   "id": "b57bbac3-a8b2-464b-ab3d-9f2319e1de19",
   "metadata": {},
   "source": [
    "### Example 1:\n",
    "\n",
    "#### Input: s = \"anagram\", t = \"nagaram\"\n",
    "\n",
    "#### Output: true"
   ]
  },
  {
   "cell_type": "code",
   "execution_count": null,
   "id": "8f1eff7a-4fef-4606-80d7-1d4a482611a9",
   "metadata": {},
   "outputs": [],
   "source": []
  },
  {
   "cell_type": "code",
   "execution_count": null,
   "id": "e8d1ef1d-22ad-4ed9-b815-97332b992f49",
   "metadata": {},
   "outputs": [],
   "source": []
  }
 ],
 "metadata": {
  "kernelspec": {
   "display_name": "Python 3 (ipykernel)",
   "language": "python",
   "name": "python3"
  },
  "language_info": {
   "codemirror_mode": {
    "name": "ipython",
    "version": 3
   },
   "file_extension": ".py",
   "mimetype": "text/x-python",
   "name": "python",
   "nbconvert_exporter": "python",
   "pygments_lexer": "ipython3",
   "version": "3.12.7"
  }
 },
 "nbformat": 4,
 "nbformat_minor": 5
}
