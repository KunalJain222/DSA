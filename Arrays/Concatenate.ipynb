{
 "cells": [
  {
   "cell_type": "markdown",
   "id": "d19cee63-57ea-46a0-a4f1-074fdf32f653",
   "metadata": {},
   "source": [
    "## Problem Statement"
   ]
  },
  {
   "cell_type": "markdown",
   "id": "50aed49a-8005-486f-babc-0f1c697514fc",
   "metadata": {},
   "source": [
    "#### Given an integer array nums of length n, you want to create an array ans of length 2n where ans[i] == nums[i] and ans[i + n] == nums[i] for 0 <= i < n (0-indexed).\n",
    "\n",
    "#### Specifically, ans is the concatenation of two nums arrays.\n",
    "\n",
    "#### Return the array ans."
   ]
  },
  {
   "cell_type": "markdown",
   "id": "0fad5dba-a96a-473f-9be9-bd9e6baa37db",
   "metadata": {},
   "source": [
    "### Example \n",
    "#### Input: nums = [1,2,1]\n",
    "#### Output: [1,2,1,1,2,1]\n",
    "#### Explanation: The array ans is formed as follows:\n",
    "#### - ans = [nums[0],nums[1],nums[2],nums[0],nums[1],nums[2]]\n",
    "#### - ans = [1,2,1,1,2,1]"
   ]
  },
  {
   "cell_type": "markdown",
   "id": "79fcb635-7ea6-4e36-89dc-60353d0faf06",
   "metadata": {},
   "source": [
    "### Code :-"
   ]
  },
  {
   "cell_type": "code",
   "execution_count": 1,
   "id": "6e5d09cd-11c3-4ae1-ae3b-9a1a476e02c2",
   "metadata": {},
   "outputs": [],
   "source": [
    "class Solution(object):\n",
    "    def getConcatenation(self, nums):\n",
    "        \"\"\"\n",
    "        :type nums: List[int]\n",
    "        :rtype: List[int]\n",
    "        \"\"\"\n",
    "        i = 0\n",
    "        ans = []\n",
    "        for i in range(2):\n",
    "            for n in nums:\n",
    "                ans.append(n)\n",
    "        \n",
    "        return ans"
   ]
  },
  {
   "cell_type": "code",
   "execution_count": null,
   "id": "e5d311b6-0910-4e5c-8f5f-75895ecbaf0f",
   "metadata": {},
   "outputs": [],
   "source": []
  }
 ],
 "metadata": {
  "kernelspec": {
   "display_name": "Python 3 (ipykernel)",
   "language": "python",
   "name": "python3"
  },
  "language_info": {
   "codemirror_mode": {
    "name": "ipython",
    "version": 3
   },
   "file_extension": ".py",
   "mimetype": "text/x-python",
   "name": "python",
   "nbconvert_exporter": "python",
   "pygments_lexer": "ipython3",
   "version": "3.12.7"
  }
 },
 "nbformat": 4,
 "nbformat_minor": 5
}
